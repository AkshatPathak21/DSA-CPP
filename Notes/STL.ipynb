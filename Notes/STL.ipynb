{
 "cells": [
  {
   "cell_type": "markdown",
   "metadata": {},
   "source": [
    "## Standar Template Libraries\n"
   ]
  },
  {
   "cell_type": "markdown",
   "metadata": {},
   "source": [
    "### CPP STL is divided into 4 parts:\n",
    "\n",
    "1. Containers \n",
    "2. Algorithms\n",
    "3. Functions\n",
    "4. Iterators"
   ]
  },
  {
   "cell_type": "markdown",
   "metadata": {},
   "source": [
    "Before moving onto containers we will learn about pairs\n",
    "Pairs is a part of Utility library.Pair is used to combine together TWO values that may be of different data types.The first element is referenced as ‘first’ and the second element as ‘second’ and the order is fixed (first, second).\n",
    "We can use the nested property of pairs to store more than 2 Variables ({ 1, { 3, 4 } })\n",
    "\n",
    "Pair can also be a datatype. So it can be used to form an array of pairs.\n"
   ]
  },
  {
   "cell_type": "markdown",
   "metadata": {},
   "source": []
  }
 ],
 "metadata": {
  "language_info": {
   "name": "python"
  }
 },
 "nbformat": 4,
 "nbformat_minor": 2
}
