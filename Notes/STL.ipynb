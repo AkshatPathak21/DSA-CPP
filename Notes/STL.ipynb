{
 "cells": [
  {
   "cell_type": "markdown",
   "metadata": {},
   "source": [
    "## Standar Template Libraries\n"
   ]
  },
  {
   "cell_type": "markdown",
   "metadata": {},
   "source": [
    "### CPP STL is divided into 4 parts:\n",
    "\n",
    "1. Containers \n",
    "2. Algorithms\n",
    "3. Functions\n",
    "4. Iterators"
   ]
  },
  {
   "cell_type": "markdown",
   "metadata": {},
   "source": [
    "### Pairs\n",
    "Before moving onto containers we will learn about pairs\n",
    "Pairs is a part of Utility library.Pair is used to combine together TWO values that may be of different data types.The first element is referenced as ‘first’ and the second element as ‘second’ and the order is fixed (first, second).\n",
    "We can use the nested property of pairs to store more than 2 Variables ({ 1, { 3, 4 } })\n",
    "Pair can also be a datatype. So it can be used to form an array of pairs.\n"
   ]
  },
  {
   "cell_type": "markdown",
   "metadata": {},
   "source": [
    "### Vectors\n",
    "Vector is a container which is dynamic in nature. Unlike arrays which when declared have a fixed size.When we declare a vector it creates an empty container.The push_back() function is used to push elements to the back of the container.There is another function called emplace_back(), similar to push_back(), which dynamically increases the size of the container and inserts the element to the back of the container. Generally emplace_back() is faster than push_back().emplace_back() automatically assumes the datatype of the input and inserts the element into the vector unlike push_back where we have to properly input the datatype of the input.\n",
    "\n",
    "Access elements of a vector:\n",
    "1. v[i] or v.at(i)[Less used]\n",
    "2. iterators"
   ]
  },
  {
   "cell_type": "markdown",
   "metadata": {},
   "source": [
    "### Iterators \n",
    "Iterators point to the memory address of the container and in order to access anything that is in the memory we use *(asterisk).\n",
    "1. begin() – Returns an iterator pointing to the first element in the vector\n",
    "2. end() – Returns an iterator pointing to the theoretical element that follows the last element in the vector\n",
    "3. rbegin() – Returns a reverse iterator pointing to the last element in the vector (reverse beginning). It moves from last to first element\n",
    "4. rend() – Returns a reverse iterator pointing to the theoretical element preceding the first element in the vector (considered as reverse end)\n",
    "5. cbegin() – Returns a constant iterator pointing to the first element in the vector.\n",
    "6. cend() – Returns a constant iterator pointing to the theoretical element that follows the last element in the vector.\n",
    "7. crbegin() – Returns a constant reverse iterator pointing to the last element in the vector (reverse beginning). It moves from last to first element\n",
    "8. crend() – Returns a constant reverse iterator pointing to the theoretical element preceding the first element in the vector (considered as reverse end)"
   ]
  },
  {
   "cell_type": "markdown",
   "metadata": {},
   "source": []
  }
 ],
 "metadata": {
  "language_info": {
   "name": "python"
  }
 },
 "nbformat": 4,
 "nbformat_minor": 2
}
